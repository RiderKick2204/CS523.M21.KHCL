{
  "nbformat": 4,
  "nbformat_minor": 0,
  "metadata": {
    "colab": {
      "name": "NumPy_An.ipynb",
      "provenance": [],
      "collapsed_sections": [],
      "authorship_tag": "ABX9TyO6Bv7xaVnTwQHLHiu6K92L",
      "include_colab_link": true
    },
    "kernelspec": {
      "name": "python3",
      "display_name": "Python 3"
    },
    "language_info": {
      "name": "python"
    }
  },
  "cells": [
    {
      "cell_type": "markdown",
      "metadata": {
        "id": "view-in-github",
        "colab_type": "text"
      },
      "source": [
        "<a href=\"https://colab.research.google.com/github/RiderKick2204/CS523.M21.KHCL/blob/main/Numpy_version0.ipynb\" target=\"_parent\"><img src=\"https://colab.research.google.com/assets/colab-badge.svg\" alt=\"Open In Colab\"/></a>"
      ]
    },
    {
      "cell_type": "code",
      "source": [
        "import math\n",
        "import numpy as np\n",
        "import pandas as pd\n",
        "from operator import mul\n",
        "from functools import reduce "
      ],
      "metadata": {
        "id": "o3HcdEhwrOIK"
      },
      "execution_count": null,
      "outputs": []
    },
    {
      "cell_type": "markdown",
      "source": [
        "#**Size**\n"
      ],
      "metadata": {
        "id": "eRQPJQIJPsSj"
      }
    },
    {
      "cell_type": "code",
      "source": [
        "def get_size(L):\n",
        "  if (type(L)==list):\n",
        "    return len(L) * get_size(L[0])\n",
        "  else:\n",
        "    return 1"
      ],
      "metadata": {
        "id": "B6zm89ZH1WmB"
      },
      "execution_count": null,
      "outputs": []
    },
    {
      "cell_type": "markdown",
      "source": [
        "#**Shape**"
      ],
      "metadata": {
        "id": "ZWunMtyRPwjC"
      }
    },
    {
      "cell_type": "code",
      "source": [
        "def get_shape(L,shape=()):\n",
        "  if (type(L)!=list):\n",
        "    return shape\n",
        "  if (type(L[0])==list):\n",
        "    Len_of_sublist = len(L[0])\n",
        "    for i in range(len(L)):\n",
        "      if (len(L[i])!=Len_of_sublist):\n",
        "        raise ValueError(\"All lists not have same length\")\n",
        "        break\n",
        "  shape = get_shape(L[0],shape + (len(L),))\n",
        "  return shape"
      ],
      "metadata": {
        "id": "eTgblcfkP85L"
      },
      "execution_count": null,
      "outputs": []
    },
    {
      "cell_type": "code",
      "source": [
        "L = [[[2,3],[2,4],[2,7]],[[2,5],[2,6],[2,8]]]\n",
        "get_shape(L)"
      ],
      "metadata": {
        "colab": {
          "base_uri": "https://localhost:8080/"
        },
        "id": "X_W1deROIPiu",
        "outputId": "37ba2ce2-6048-4df0-f65b-71e88d13a2fd"
      },
      "execution_count": null,
      "outputs": [
        {
          "output_type": "execute_result",
          "data": {
            "text/plain": [
              "(2, 3, 2)"
            ]
          },
          "metadata": {},
          "execution_count": 5
        }
      ]
    },
    {
      "cell_type": "markdown",
      "source": [
        "#**Array_split**"
      ],
      "metadata": {
        "id": "z65RhetNP0Nd"
      }
    },
    {
      "cell_type": "code",
      "source": [
        "def Array_split(L,indices_or_sections):\n",
        "  if (indices_or_sections <= 0):\n",
        "    raise ValueError(\"number sections must be larger than 0.\")\n",
        "  if (indices_or_sections == 1):\n",
        "    return L\n",
        "  T = []\n",
        "  Length = len(L)\n",
        "  if (indices_or_sections > len(L)):\n",
        "    parts = 1\n",
        "  else:\n",
        "    parts = len(L) // indices_or_sections + len(L) % indices_or_sections\n",
        "  for i in range(indices_or_sections):\n",
        "    T.append(L[max(i*parts,0):min(Length,(i+1)*parts)])\n",
        "  return T"
      ],
      "metadata": {
        "id": "fAyi9U_IXI_p"
      },
      "execution_count": null,
      "outputs": []
    },
    {
      "cell_type": "code",
      "source": [
        "Arr = np.random.randint(1,10,(2,3,4))"
      ],
      "metadata": {
        "id": "AsP8UnpFCPOy"
      },
      "execution_count": null,
      "outputs": []
    },
    {
      "cell_type": "code",
      "source": [
        "A = np.arange(1,17).reshape(2,2,2,2)\n",
        "indices_or_sections = 5\n",
        "print(\"Array A\")\n",
        "print(A)\n",
        "print(\"Using numpy.array_split:\")\n",
        "print(pd.Series(data=np.array_split(A,indices_or_sections)))\n",
        "D = A.tolist()\n",
        "print(\"Without using numpy.array_split:\")\n",
        "print(\"Current: \",D)\n",
        "print(\"Array_split(A,{}):\".format(indices_or_sections))\n",
        "print(pd.Series(data=Array_split(D,indices_or_sections)))\n",
        "D = np.asarray(D)"
      ],
      "metadata": {
        "colab": {
          "base_uri": "https://localhost:8080/"
        },
        "id": "g26Nm425WBg0",
        "outputId": "2f28a508-77b5-4aa6-e910-d1c02c84d775"
      },
      "execution_count": null,
      "outputs": [
        {
          "output_type": "stream",
          "name": "stdout",
          "text": [
            "Array A\n",
            "[[[[ 1  2]\n",
            "   [ 3  4]]\n",
            "\n",
            "  [[ 5  6]\n",
            "   [ 7  8]]]\n",
            "\n",
            "\n",
            " [[[ 9 10]\n",
            "   [11 12]]\n",
            "\n",
            "  [[13 14]\n",
            "   [15 16]]]]\n",
            "Using numpy.array_split:\n",
            "0            [[[[1 2], [3 4]], [[5 6], [7 8]]]]\n",
            "1    [[[[ 9 10], [11 12]], [[13 14], [15 16]]]]\n",
            "2                                            []\n",
            "3                                            []\n",
            "4                                            []\n",
            "dtype: object\n",
            "Without using numpy.array_split:\n",
            "Current:  [[[[1, 2], [3, 4]], [[5, 6], [7, 8]]], [[[9, 10], [11, 12]], [[13, 14], [15, 16]]]]\n",
            "Array_split(A,5):\n",
            "0           [[[[1, 2], [3, 4]], [[5, 6], [7, 8]]]]\n",
            "1    [[[[9, 10], [11, 12]], [[13, 14], [15, 16]]]]\n",
            "2                                               []\n",
            "3                                               []\n",
            "4                                               []\n",
            "dtype: object\n"
          ]
        }
      ]
    },
    {
      "cell_type": "markdown",
      "source": [
        "#**Reshape**"
      ],
      "metadata": {
        "id": "5bZnr8i9P6e5"
      }
    },
    {
      "cell_type": "code",
      "source": [
        "def Reshape(L,shape=()):\n",
        "  newsize = 1\n",
        "  newdim = 0\n",
        "  T = L\n",
        "  if not isinstance(shape,(tuple,list)):\n",
        "    newsize = shape\n",
        "    newdim = 1\n",
        "  else:\n",
        "    newsize = 1\n",
        "    for x in list(shape):\n",
        "      newsize = newsize * x\n",
        "  dim = len(list(get_shape(L)))\n",
        "  if (newsize != get_size(L)):\n",
        "    raise ValueError (\"cannot reshape array of size {} into shape {}\".format(get_size(L),shape))\n",
        "  for i in range(dim-1):\n",
        "    T = [a for b in T for a in b]\n",
        "  if (newdim == 1): \n",
        "    return T\n",
        "  else:\n",
        "    shape = list(shape)\n",
        "    shape.reverse()\n",
        "    for x in range(len(shape)):\n",
        "      T = Array_split(T,newsize//shape[x])\n",
        "      newsize //= shape[x]\n",
        "    return T"
      ],
      "metadata": {
        "id": "Oa0IP8aq5Vxp"
      },
      "execution_count": null,
      "outputs": []
    },
    {
      "cell_type": "code",
      "source": [
        "shape = ()\n",
        "for i in range(15):\n",
        " shape += (2,)\n",
        "shape += (3,)\n",
        "B = np.arange(1,98305).reshape(shape)\n",
        "shape = ()\n",
        "print(\"Current shape of array: \",B.shape)\n",
        "print(\"Current number of dimensions of array:\",B.ndim)\n",
        "for i in range(12):\n",
        "  shape += (2,)\n",
        "shape += (12,)\n",
        "shape += (2,)\n",
        "# print(len(list(shape)))\n",
        "print(\"Reshape to {} dimensions, shape {}\".format(len(list(shape)),shape))\n",
        "D = Reshape(B.tolist(),list(shape))\n",
        "print(\"\\nReshape without using numpy - storage in list\")\n",
        "print(\"Shape of list D:\",np.array(D).shape)\n",
        "print(\"Number of dimensions of list D:\",np.array(D).ndim)\n",
        "B = B.reshape(shape)\n",
        "print(\"\\nReshape using numpy - storage in array\")\n",
        "print(\"Shape of array B:\",B.shape)\n",
        "print(\"Number of dimensions of array B:\",B.ndim)\n",
        "print(\"\\nB = D:\",np.array_equal(B,np.array(D)))"
      ],
      "metadata": {
        "colab": {
          "base_uri": "https://localhost:8080/"
        },
        "id": "sWF7izV5UE3H",
        "outputId": "f517e89e-be17-43fc-c44a-7fb04060b159"
      },
      "execution_count": null,
      "outputs": [
        {
          "output_type": "stream",
          "name": "stdout",
          "text": [
            "Current shape of array:  (2, 2, 2, 2, 2, 2, 2, 2, 2, 2, 2, 2, 2, 2, 2, 3)\n",
            "Current number of dimensions of array: 16\n",
            "Reshape to 14 dimensions, shape (2, 2, 2, 2, 2, 2, 2, 2, 2, 2, 2, 2, 12, 2)\n",
            "\n",
            "Reshape without using numpy - storage in list\n",
            "Shape of list D: (2, 2, 2, 2, 2, 2, 2, 2, 2, 2, 2, 2, 12, 2)\n",
            "Number of dimensions of list D: 14\n",
            "\n",
            "Reshape using numpy - storage in array\n",
            "Shape of array B: (2, 2, 2, 2, 2, 2, 2, 2, 2, 2, 2, 2, 12, 2)\n",
            "Number of dimensions of array B: 14\n",
            "\n",
            "B = D: True\n"
          ]
        }
      ]
    },
    {
      "cell_type": "code",
      "source": [
        "C = np.random.randint(1,10,(5,3,2,2,2,2,2,2))\n",
        "C.ndim"
      ],
      "metadata": {
        "colab": {
          "base_uri": "https://localhost:8080/"
        },
        "id": "ofz94FAK4oWw",
        "outputId": "a4e80c22-dfd1-44fd-c174-a860b571ec8d"
      },
      "execution_count": null,
      "outputs": [
        {
          "output_type": "execute_result",
          "data": {
            "text/plain": [
              "8"
            ]
          },
          "metadata": {},
          "execution_count": 11
        }
      ]
    },
    {
      "cell_type": "markdown",
      "source": [
        "#Transpose"
      ],
      "metadata": {
        "id": "shD_uCFH8Ez2"
      }
    },
    {
      "cell_type": "code",
      "source": [
        "def Transpose(L):\n",
        "  T = L\n",
        "  shape = list(get_shape(T))\n",
        "  dim = len(shape)\n",
        "  for i in range(dim-1):\n",
        "    T = [a for b in T for a in b]\n",
        "  size = 1\n",
        "  for i in shape:\n",
        "    size = size * i\n",
        "  for i in shape[:-1]:\n",
        "    size //= i\n",
        "    new_T = []\n",
        "    for j in range(size):\n",
        "      new_T.append([])\n",
        "      for k in range(i):\n",
        "        new_T[j] = new_T[j] + [T[j+k*size]]\n",
        "    T = new_T\n",
        "  return T"
      ],
      "metadata": {
        "id": "7aCG7Pjx2xSk"
      },
      "execution_count": null,
      "outputs": []
    },
    {
      "cell_type": "code",
      "source": [
        "shape = ()\n",
        "for i in range(15): \n",
        "  shape += (np.random.randint(2,4),)\n",
        "C2 = np.random.randint(1,1000,shape)\n",
        "D1 = C2.transpose()\n",
        "D2 = Transpose(C2.tolist())\n",
        "print(D1.shape,\" \",get_shape(D2))\n",
        "print(np.array_equal(D1,np.array(D2)))"
      ],
      "metadata": {
        "id": "IU9tZK7JAv_k",
        "colab": {
          "base_uri": "https://localhost:8080/"
        },
        "outputId": "6a71a268-9b99-4c11-e20b-33c28ca9a403"
      },
      "execution_count": null,
      "outputs": [
        {
          "output_type": "stream",
          "name": "stdout",
          "text": [
            "(3, 3, 3, 3, 2, 2, 3, 3, 2, 3, 2, 3, 3, 2, 2)   (3, 3, 3, 3, 2, 2, 3, 3, 2, 3, 2, 3, 3, 2, 2)\n",
            "True\n"
          ]
        }
      ]
    }
  ]
}